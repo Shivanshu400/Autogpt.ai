{
 "cells": [
  {
   "cell_type": "code",
   "execution_count": null,
   "id": "5267b95b-d6b4-4c50-a257-5f46b0ee8303",
   "metadata": {},
   "outputs": [],
   "source": [
    "# Set up tools"
   ]
  },
  {
   "cell_type": "code",
   "execution_count": 2,
   "id": "d1c27949-9061-42a9-9a5b-6506e451377a",
   "metadata": {},
   "outputs": [],
   "source": [
    "\n",
    "import requests"
   ]
  },
  {
   "cell_type": "code",
   "execution_count": 3,
   "id": "b3942923-2e3a-49aa-a8d6-d535874cb458",
   "metadata": {},
   "outputs": [
    {
     "name": "stdout",
     "output_type": "stream",
     "text": [
      "search Output: Error: 401 - {\n",
      "  \"error\": \"Invalid API key. Your API key should be here: https://serpapi.com/manage-api-key\"\n",
      "}\n",
      "writefiletool Output: Data successfully written to file: sample_file.txt\n",
      "ReadFileTool Output: Sample content\n"
     ]
    }
   ],
   "source": [
    "\n",
    "class Tool:\n",
    "    def __init__(self, name, func, description):\n",
    "        self.name = name\n",
    "        self.func = func\n",
    "        self.description = description\n",
    "\n",
    "    def __call__(self, *args, **kwargs):\n",
    "        return self.func(*args, **kwargs)\n",
    "\n",
    "class writefiletool:\n",
    "    def __call__(self, content, file_path):\n",
    "        with open(file_path, 'w', encoding='utf-8') as file:\n",
    "            file.write(content)\n",
    "        return f\"Data successfully written to file: {file_path}\"\n",
    "\n",
    "class ReadFileTool:\n",
    "    def __call__(self, file_path):\n",
    "        with open(file_path, 'r', encoding='utf-8') as file:\n",
    "            content = file.read()\n",
    "        return content\n",
    "\n",
    "class MySerpAPIWrapper:\n",
    "    def __init__(self, api_key):\n",
    "        self.api_key = api_key\n",
    "        self.api_url = \"https://serpapi.com/search\"\n",
    "\n",
    "    def run(self, query):\n",
    "        params = {\n",
    "            \"q\": query,\n",
    "            \"api_key\": self.api_key,\n",
    "        }\n",
    "\n",
    "        response = requests.get(self.api_url, params=params)\n",
    "\n",
    "        if response.status_code == 200:\n",
    "            return response.json()\n",
    "        else:\n",
    "            return f\"Error: {response.status_code} - {response.text}\"\n",
    "\n",
    "api_key = \"Enter your Api\" \n",
    "my_search = MySerpAPIWrapper(api_key)\n",
    "query = \"Python language\"\n",
    "\n",
    "tools = [\n",
    "    Tool(\n",
    "        name=\"search\",\n",
    "        func=my_search.run,  \n",
    "        description=\"useful for when you need to answer questions about current events. You should ask targeted questions\",\n",
    "    ),\n",
    "    writefiletool(),\n",
    "    ReadFileTool(),\n",
    "]\n",
    "\n",
    "for tool in tools:\n",
    "    if hasattr(tool, 'func'):  \n",
    "        output = tool(query)  \n",
    "        print(f\"{tool.name} Output: {output}\")\n",
    "    elif isinstance(tool, (writefiletool, ReadFileTool)):  \n",
    "        if isinstance(tool, writefiletool):\n",
    "            output = tool(\"Sample content\", \"sample_file.txt\")\n",
    "        elif isinstance(tool, ReadFileTool):\n",
    "            output = tool(\"sample_file.txt\")\n",
    "        print(f\"{tool.__class__.__name__} Output: {output}\")\n"
   ]
  },
  {
   "cell_type": "code",
   "execution_count": null,
   "id": "d9c00274-8109-4d36-a104-b25659ab925c",
   "metadata": {},
   "outputs": [],
   "source": [
    "# Set up memory"
   ]
  },
  {
   "cell_type": "code",
   "execution_count": 14,
   "id": "f07fcecb-06e9-4fa8-a597-c52779c22ac9",
   "metadata": {},
   "outputs": [
    {
     "name": "stdout",
     "output_type": "stream",
     "text": [
      "{'1': {'id': '1', 'text': 'This is a document.'}}\n",
      "{'id': '1', 'text': 'This is a document.'}\n",
      "{'id': '1', 'text': 'This is an updated document.'}\n"
     ]
    }
   ],
   "source": [
    "\n",
    "class InMemoryDocstore:\n",
    "    def __init__(self):\n",
    "        self.documents = {}\n",
    "\n",
    "    def store(self, document):\n",
    "        try:\n",
    "            self.documents[document[\"id\"]] = document\n",
    "            return self.documents\n",
    "        except Exception as e:\n",
    "            print(e)\n",
    "\n",
    "    def retrieve(self, id):\n",
    "        try:\n",
    "           return self.documents.get(id)\n",
    "        except Exception as e:\n",
    "            print(e)\n",
    "\n",
    "    def update(self, id, updated_document):\n",
    "      try:\n",
    "        if id in self.documents:\n",
    "            self.documents[id].update(updated_document)\n",
    "        else:\n",
    "            print(f\"Document with ID {id} not found.\")\n",
    "      except Exception as e:\n",
    "           print(e)\n",
    "\n",
    "\n",
    "docstore = InMemoryDocstore()\n",
    "\n",
    "print(docstore.store({\"id\": \"1\", \"text\": \"This is a document.\"}))\n",
    "\n",
    "doc = docstore.retrieve(\"1\")\n",
    "print(doc)\n",
    "\n",
    "docstore.update(\"1\", {\"text\": \"This is an updated document.\"})\n",
    "\n",
    "doc = docstore.retrieve(\"1\")\n",
    "print(doc)\n",
    "\n"
   ]
  },
  {
   "cell_type": "code",
   "execution_count": null,
   "id": "5b98f697-d4d9-4856-b42a-749c5006aa42",
   "metadata": {},
   "outputs": [],
   "source": [
    "# Setup model and AutoGPT"
   ]
  },
  {
   "cell_type": "code",
   "execution_count": 26,
   "id": "14a738be-955c-4f01-a427-3999c33252c3",
   "metadata": {},
   "outputs": [
    {
     "name": "stdout",
     "output_type": "stream",
     "text": [
      "\n",
      "\n",
      "Today in San Francisco, we are expecting a high of 64 degrees with a low of 54 degrees. The skies will be mostly cloudy with a chance of light rain in the afternoon. Winds will be light and variable. It will be a great\n"
     ]
    }
   ],
   "source": [
    "import openai\n",
    "\n",
    "openai.api_key = \"Enter your openai api key\"\n",
    "\n",
    "def embed_text(text):\n",
    "    response = openai.Completion.create(\n",
    "        engine=\"text-davinci-003\",\n",
    "        prompt=text,\n",
    "        max_tokens=50,  \n",
    "        temperature=0,\n",
    "    )\n",
    "    \n",
    "    try:\n",
    "        embedding = response[\"choices\"][0][\"text\"]\n",
    "        return embedding\n",
    "    except (KeyError, IndexError) as e:\n",
    "        print(f\"Error: Unable to extract embedding from API response. {e}\")\n",
    "        return None\n",
    "\n",
    "def embed_documents(documents):\n",
    "    embeddings = []\n",
    "    for document in documents:\n",
    "        embeddings.append(embed_text(document))\n",
    "    return embeddings\n",
    "\n",
    "text = \"write a weather report for SF today\"\n",
    "embeddings = embed_text(text)\n",
    "print(embeddings)\n"
   ]
  },
  {
   "cell_type": "code",
   "execution_count": 17,
   "id": "03240317-1b0e-41f5-aed5-6e06b1297166",
   "metadata": {},
   "outputs": [
    {
     "name": "stdout",
     "output_type": "stream",
     "text": [
      "Requirement already satisfied: faiss-cpu in c:\\users\\shubh\\appdata\\local\\programs\\python\\python310\\lib\\site-packages (1.7.4)\n",
      "Note: you may need to restart the kernel to use updated packages.\n"
     ]
    }
   ],
   "source": [
    "pip install faiss-cpu"
   ]
  },
  {
   "cell_type": "code",
   "execution_count": 18,
   "id": "f9c969a8-18a8-49b0-a0f2-8ad8be336f5d",
   "metadata": {},
   "outputs": [
    {
     "name": "stdout",
     "output_type": "stream",
     "text": [
      "Distance: [ 27. 108.], Index: [2 1]\n"
     ]
    }
   ],
   "source": [
    "import faiss\n",
    "import numpy as np\n",
    "\n",
    "index = faiss.IndexFlatL2(3) \n",
    "embeddings = np.array([\n",
    "    [1.0, 2.0, 3.0],\n",
    "    [4.0, 5.0, 6.0],\n",
    "    [7.0, 8.0, 9.0],\n",
    "])\n",
    "\n",
    "assert embeddings.shape[1] == index.d, \"Dimensionality of embeddings does not match index dimensionality\"\n",
    "index.add(embeddings)\n",
    "\n",
    "# Query vector\n",
    "query = np.array([[10.0, 11.0, 12.0]])\n",
    "D, I = index.search(query, 2)\n",
    "\n",
    "for i in range(D.shape[0]):\n",
    "    print(f\"Distance: {D[i]}, Index: {I[i]}\")\n"
   ]
  },
  {
   "cell_type": "code",
   "execution_count": 19,
   "id": "fa67b79b-111a-4ce0-91a5-f5b50b840536",
   "metadata": {},
   "outputs": [
    {
     "name": "stdout",
     "output_type": "stream",
     "text": [
      "Requirement already satisfied: openai in c:\\users\\shubh\\appdata\\local\\programs\\python\\python310\\lib\\site-packages (0.28.0)Note: you may need to restart the kernel to use updated packages.\n",
      "\n",
      "Requirement already satisfied: requests>=2.20 in c:\\users\\shubh\\appdata\\local\\programs\\python\\python310\\lib\\site-packages (from openai) (2.28.2)\n",
      "Requirement already satisfied: tqdm in c:\\users\\shubh\\appdata\\local\\programs\\python\\python310\\lib\\site-packages (from openai) (4.66.1)\n",
      "Requirement already satisfied: aiohttp in c:\\users\\shubh\\appdata\\local\\programs\\python\\python310\\lib\\site-packages (from openai) (3.9.0)\n",
      "Requirement already satisfied: charset-normalizer<4,>=2 in c:\\users\\shubh\\appdata\\local\\programs\\python\\python310\\lib\\site-packages (from requests>=2.20->openai) (3.1.0)\n",
      "Requirement already satisfied: idna<4,>=2.5 in c:\\users\\shubh\\appdata\\local\\programs\\python\\python310\\lib\\site-packages (from requests>=2.20->openai) (3.4)\n",
      "Requirement already satisfied: urllib3<1.27,>=1.21.1 in c:\\users\\shubh\\appdata\\local\\programs\\python\\python310\\lib\\site-packages (from requests>=2.20->openai) (1.26.15)\n",
      "Requirement already satisfied: certifi>=2017.4.17 in c:\\users\\shubh\\appdata\\local\\programs\\python\\python310\\lib\\site-packages (from requests>=2.20->openai) (2022.12.7)\n",
      "Requirement already satisfied: attrs>=17.3.0 in c:\\users\\shubh\\appdata\\local\\programs\\python\\python310\\lib\\site-packages (from aiohttp->openai) (22.2.0)\n",
      "Requirement already satisfied: multidict<7.0,>=4.5 in c:\\users\\shubh\\appdata\\local\\programs\\python\\python310\\lib\\site-packages (from aiohttp->openai) (6.0.4)\n",
      "Requirement already satisfied: yarl<2.0,>=1.0 in c:\\users\\shubh\\appdata\\local\\programs\\python\\python310\\lib\\site-packages (from aiohttp->openai) (1.9.3)\n",
      "Requirement already satisfied: frozenlist>=1.1.1 in c:\\users\\shubh\\appdata\\local\\programs\\python\\python310\\lib\\site-packages (from aiohttp->openai) (1.4.0)\n",
      "Requirement already satisfied: aiosignal>=1.1.2 in c:\\users\\shubh\\appdata\\local\\programs\\python\\python310\\lib\\site-packages (from aiohttp->openai) (1.3.1)\n",
      "Requirement already satisfied: async-timeout<5.0,>=4.0 in c:\\users\\shubh\\appdata\\local\\programs\\python\\python310\\lib\\site-packages (from aiohttp->openai) (4.0.3)\n",
      "Requirement already satisfied: colorama in c:\\users\\shubh\\appdata\\local\\programs\\python\\python310\\lib\\site-packages (from tqdm->openai) (0.4.6)\n"
     ]
    }
   ],
   "source": [
    "pip install openai"
   ]
  },
  {
   "cell_type": "code",
   "execution_count": null,
   "id": "6fc770bf-5d0b-4b36-966e-7eb6219887c0",
   "metadata": {},
   "outputs": [],
   "source": [
    "# Chat History Memory"
   ]
  },
  {
   "cell_type": "code",
   "execution_count": 21,
   "id": "9914039f-61d3-4afb-bfe5-cbc8ebef6631",
   "metadata": {},
   "outputs": [],
   "source": [
    "class FileChatMessageHistory:\n",
    "    def __init__(self, file_path):\n",
    "        self.file_path = file_path\n",
    "\n",
    "    def add_message(self, sender, message):\n",
    "        with open(self.file_path, \"a\") as file:\n",
    "            file.write(f\"{sender}: {message}\\n\")\n",
    "\n",
    "    def get_chat_history(self):\n",
    "        with open(self.file_path, \"r\") as file:\n",
    "            return file.readlines()\n",
    "\n",
    "class ChatOpenAI:\n",
    "    def __init__(self, temperature):\n",
    "        self.temperature = temperature\n",
    "\n",
    "    # Add any other methods or logic you need\n",
    "\n",
    "class AutoGPT:\n",
    "    def __init__(self, ai_name, ai_role, tools, llm, memory, chat_history_memory):\n",
    "        self.ai_name = ai_name\n",
    "        self.ai_role = ai_role\n",
    "        self.tools = tools\n",
    "        self.llm = llm\n",
    "        self.memory = memory\n",
    "        self.chat_history_memory = chat_history_memory\n",
    "\n",
    "    @classmethod\n",
    "    def from_llm_and_tools(cls, ai_name, ai_role, tools, llm, memory, chat_history_memory):\n",
    "        return cls(ai_name, ai_role, tools, llm, memory, chat_history_memory)\n",
    "\n",
    "\n",
    "file_chat_history = FileChatMessageHistory(\"chat_history.txt\")\n",
    "\n",
    "\n",
    "chat_open_ai_instance = ChatOpenAI(temperature=0)\n",
    "\n",
    "\n",
    "memory_instance = InMemoryDocstore\n",
    "\n",
    "agent = AutoGPT(\n",
    "    ai_name=\"Tom\",\n",
    "    ai_role=\"Assistant\",\n",
    "    tools=tools, \n",
    "    llm=chat_open_ai_instance,  \n",
    "    memory=memory_instance,  \n",
    "    chat_history_memory=file_chat_history,\n",
    ")\n"
   ]
  },
  {
   "cell_type": "code",
   "execution_count": 22,
   "id": "b1a760a4-32e8-4627-afac-820fadd2d42f",
   "metadata": {},
   "outputs": [],
   "source": [
    "\n",
    "file_chat_history.add_message(sender=\"User\", message=\"Hello, how are you?\")"
   ]
  },
  {
   "cell_type": "code",
   "execution_count": 23,
   "id": "209d1c00-d04b-44f1-8bdf-5cd6e9d2a57b",
   "metadata": {},
   "outputs": [
    {
     "name": "stdout",
     "output_type": "stream",
     "text": [
      "Chat History:\n",
      "['User: Hello, how are you?\\n', 'User: Hello, how are you?\\n']\n"
     ]
    }
   ],
   "source": [
    "chat_history = file_chat_history.get_chat_history()\n",
    "print(\"Chat History:\")\n",
    "print(chat_history)"
   ]
  },
  {
   "cell_type": "code",
   "execution_count": null,
   "id": "bcadfd69-db56-4021-b9eb-12358dd6f8c2",
   "metadata": {},
   "outputs": [],
   "source": []
  },
  {
   "cell_type": "code",
   "execution_count": null,
   "id": "9dde5fe8-c8db-4c03-8f40-12986f980799",
   "metadata": {},
   "outputs": [],
   "source": []
  }
 ],
 "metadata": {
  "kernelspec": {
   "display_name": "Python 3 (ipykernel)",
   "language": "python",
   "name": "python3"
  },
  "language_info": {
   "codemirror_mode": {
    "name": "ipython",
    "version": 3
   },
   "file_extension": ".py",
   "mimetype": "text/x-python",
   "name": "python",
   "nbconvert_exporter": "python",
   "pygments_lexer": "ipython3",
   "version": "3.10.7"
  }
 },
 "nbformat": 4,
 "nbformat_minor": 5
}
